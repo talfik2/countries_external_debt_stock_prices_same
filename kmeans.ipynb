{
 "cells": [
  {
   "cell_type": "markdown",
   "metadata": {},
   "source": [
    "# So which country have external debt stocks prices tend to change in the same way?"
   ]
  },
  {
   "cell_type": "code",
   "execution_count": 19,
   "metadata": {},
   "outputs": [],
   "source": [
    "import pandas as pd\n",
    "import numpy as np\n",
    "import matplotlib.pyplot as plt"
   ]
  },
  {
   "cell_type": "markdown",
   "metadata": {},
   "source": [
    "#### 1. Importing Data"
   ]
  },
  {
   "cell_type": "code",
   "execution_count": 3,
   "metadata": {},
   "outputs": [],
   "source": [
    "stocks = pd.read_csv(\"C:\\\\Users\\\\talfi\\\\python\\\\ML\\\\datasets\\\\stocks\\\\external_debt_stocks_total_from_gapminder.csv\")"
   ]
  },
  {
   "cell_type": "code",
   "execution_count": 4,
   "metadata": {
    "scrolled": true
   },
   "outputs": [
    {
     "data": {
      "text/html": [
       "<div>\n",
       "<style scoped>\n",
       "    .dataframe tbody tr th:only-of-type {\n",
       "        vertical-align: middle;\n",
       "    }\n",
       "\n",
       "    .dataframe tbody tr th {\n",
       "        vertical-align: top;\n",
       "    }\n",
       "\n",
       "    .dataframe thead th {\n",
       "        text-align: right;\n",
       "    }\n",
       "</style>\n",
       "<table border=\"1\" class=\"dataframe\">\n",
       "  <thead>\n",
       "    <tr style=\"text-align: right;\">\n",
       "      <th></th>\n",
       "      <th>country</th>\n",
       "      <th>1970</th>\n",
       "      <th>1971</th>\n",
       "      <th>1972</th>\n",
       "      <th>1973</th>\n",
       "      <th>1974</th>\n",
       "      <th>1975</th>\n",
       "      <th>1976</th>\n",
       "      <th>1977</th>\n",
       "      <th>1978</th>\n",
       "      <th>...</th>\n",
       "      <th>2010</th>\n",
       "      <th>2011</th>\n",
       "      <th>2012</th>\n",
       "      <th>2013</th>\n",
       "      <th>2014</th>\n",
       "      <th>2015</th>\n",
       "      <th>2016</th>\n",
       "      <th>2017</th>\n",
       "      <th>2018</th>\n",
       "      <th>2019</th>\n",
       "    </tr>\n",
       "  </thead>\n",
       "  <tbody>\n",
       "    <tr>\n",
       "      <th>0</th>\n",
       "      <td>Afghanistan</td>\n",
       "      <td>NaN</td>\n",
       "      <td>NaN</td>\n",
       "      <td>NaN</td>\n",
       "      <td>NaN</td>\n",
       "      <td>NaN</td>\n",
       "      <td>NaN</td>\n",
       "      <td>NaN</td>\n",
       "      <td>NaN</td>\n",
       "      <td>NaN</td>\n",
       "      <td>...</td>\n",
       "      <td>2.440000e+09</td>\n",
       "      <td>2.490000e+09</td>\n",
       "      <td>2.580000e+09</td>\n",
       "      <td>2.590000e+09</td>\n",
       "      <td>2.530000e+09</td>\n",
       "      <td>2.600000e+09</td>\n",
       "      <td>2.600000e+09</td>\n",
       "      <td>2.750000e+09</td>\n",
       "      <td>2.680000e+09</td>\n",
       "      <td>2.660000e+09</td>\n",
       "    </tr>\n",
       "    <tr>\n",
       "      <th>1</th>\n",
       "      <td>Albania</td>\n",
       "      <td>NaN</td>\n",
       "      <td>NaN</td>\n",
       "      <td>NaN</td>\n",
       "      <td>NaN</td>\n",
       "      <td>NaN</td>\n",
       "      <td>NaN</td>\n",
       "      <td>NaN</td>\n",
       "      <td>NaN</td>\n",
       "      <td>NaN</td>\n",
       "      <td>...</td>\n",
       "      <td>5.440000e+09</td>\n",
       "      <td>6.480000e+09</td>\n",
       "      <td>7.380000e+09</td>\n",
       "      <td>8.650000e+09</td>\n",
       "      <td>8.510000e+09</td>\n",
       "      <td>8.450000e+09</td>\n",
       "      <td>8.520000e+09</td>\n",
       "      <td>9.800000e+09</td>\n",
       "      <td>9.870000e+09</td>\n",
       "      <td>9.630000e+09</td>\n",
       "    </tr>\n",
       "    <tr>\n",
       "      <th>2</th>\n",
       "      <td>Algeria</td>\n",
       "      <td>9.400000e+08</td>\n",
       "      <td>1.260000e+09</td>\n",
       "      <td>1.550000e+09</td>\n",
       "      <td>2.990000e+09</td>\n",
       "      <td>3.370000e+09</td>\n",
       "      <td>4.630000e+09</td>\n",
       "      <td>6.110000e+09</td>\n",
       "      <td>1.060000e+10</td>\n",
       "      <td>1.570000e+10</td>\n",
       "      <td>...</td>\n",
       "      <td>7.250000e+09</td>\n",
       "      <td>6.050000e+09</td>\n",
       "      <td>5.520000e+09</td>\n",
       "      <td>5.250000e+09</td>\n",
       "      <td>5.520000e+09</td>\n",
       "      <td>4.670000e+09</td>\n",
       "      <td>5.460000e+09</td>\n",
       "      <td>5.710000e+09</td>\n",
       "      <td>5.710000e+09</td>\n",
       "      <td>5.490000e+09</td>\n",
       "    </tr>\n",
       "    <tr>\n",
       "      <th>3</th>\n",
       "      <td>Angola</td>\n",
       "      <td>NaN</td>\n",
       "      <td>NaN</td>\n",
       "      <td>NaN</td>\n",
       "      <td>NaN</td>\n",
       "      <td>NaN</td>\n",
       "      <td>NaN</td>\n",
       "      <td>NaN</td>\n",
       "      <td>NaN</td>\n",
       "      <td>NaN</td>\n",
       "      <td>...</td>\n",
       "      <td>2.660000e+10</td>\n",
       "      <td>3.400000e+10</td>\n",
       "      <td>4.430000e+10</td>\n",
       "      <td>5.490000e+10</td>\n",
       "      <td>5.690000e+10</td>\n",
       "      <td>5.630000e+10</td>\n",
       "      <td>5.680000e+10</td>\n",
       "      <td>5.090000e+10</td>\n",
       "      <td>5.190000e+10</td>\n",
       "      <td>5.250000e+10</td>\n",
       "    </tr>\n",
       "    <tr>\n",
       "      <th>4</th>\n",
       "      <td>Argentina</td>\n",
       "      <td>5.890000e+09</td>\n",
       "      <td>6.350000e+09</td>\n",
       "      <td>6.890000e+09</td>\n",
       "      <td>7.370000e+09</td>\n",
       "      <td>7.800000e+09</td>\n",
       "      <td>7.900000e+09</td>\n",
       "      <td>9.500000e+09</td>\n",
       "      <td>1.170000e+10</td>\n",
       "      <td>1.350000e+10</td>\n",
       "      <td>...</td>\n",
       "      <td>1.270000e+11</td>\n",
       "      <td>1.430000e+11</td>\n",
       "      <td>1.400000e+11</td>\n",
       "      <td>1.500000e+11</td>\n",
       "      <td>1.540000e+11</td>\n",
       "      <td>1.770000e+11</td>\n",
       "      <td>1.890000e+11</td>\n",
       "      <td>2.370000e+11</td>\n",
       "      <td>2.840000e+11</td>\n",
       "      <td>2.790000e+11</td>\n",
       "    </tr>\n",
       "  </tbody>\n",
       "</table>\n",
       "<p>5 rows × 51 columns</p>\n",
       "</div>"
      ],
      "text/plain": [
       "       country          1970          1971          1972          1973  \\\n",
       "0  Afghanistan           NaN           NaN           NaN           NaN   \n",
       "1      Albania           NaN           NaN           NaN           NaN   \n",
       "2      Algeria  9.400000e+08  1.260000e+09  1.550000e+09  2.990000e+09   \n",
       "3       Angola           NaN           NaN           NaN           NaN   \n",
       "4    Argentina  5.890000e+09  6.350000e+09  6.890000e+09  7.370000e+09   \n",
       "\n",
       "           1974          1975          1976          1977          1978  ...  \\\n",
       "0           NaN           NaN           NaN           NaN           NaN  ...   \n",
       "1           NaN           NaN           NaN           NaN           NaN  ...   \n",
       "2  3.370000e+09  4.630000e+09  6.110000e+09  1.060000e+10  1.570000e+10  ...   \n",
       "3           NaN           NaN           NaN           NaN           NaN  ...   \n",
       "4  7.800000e+09  7.900000e+09  9.500000e+09  1.170000e+10  1.350000e+10  ...   \n",
       "\n",
       "           2010          2011          2012          2013          2014  \\\n",
       "0  2.440000e+09  2.490000e+09  2.580000e+09  2.590000e+09  2.530000e+09   \n",
       "1  5.440000e+09  6.480000e+09  7.380000e+09  8.650000e+09  8.510000e+09   \n",
       "2  7.250000e+09  6.050000e+09  5.520000e+09  5.250000e+09  5.520000e+09   \n",
       "3  2.660000e+10  3.400000e+10  4.430000e+10  5.490000e+10  5.690000e+10   \n",
       "4  1.270000e+11  1.430000e+11  1.400000e+11  1.500000e+11  1.540000e+11   \n",
       "\n",
       "           2015          2016          2017          2018          2019  \n",
       "0  2.600000e+09  2.600000e+09  2.750000e+09  2.680000e+09  2.660000e+09  \n",
       "1  8.450000e+09  8.520000e+09  9.800000e+09  9.870000e+09  9.630000e+09  \n",
       "2  4.670000e+09  5.460000e+09  5.710000e+09  5.710000e+09  5.490000e+09  \n",
       "3  5.630000e+10  5.680000e+10  5.090000e+10  5.190000e+10  5.250000e+10  \n",
       "4  1.770000e+11  1.890000e+11  2.370000e+11  2.840000e+11  2.790000e+11  \n",
       "\n",
       "[5 rows x 51 columns]"
      ]
     },
     "execution_count": 4,
     "metadata": {},
     "output_type": "execute_result"
    }
   ],
   "source": [
    "stocks.head()"
   ]
  },
  {
   "cell_type": "markdown",
   "metadata": {},
   "source": [
    "- Creating Country by removing country column from the stocks which is the only Object Column in the df that also doesn't have any Na values.\n",
    "- This way, we can implement the `SimpleImputer` easier."
   ]
  },
  {
   "cell_type": "code",
   "execution_count": 5,
   "metadata": {},
   "outputs": [],
   "source": [
    "country = stocks.pop(\"country\")"
   ]
  },
  {
   "cell_type": "code",
   "execution_count": 6,
   "metadata": {},
   "outputs": [
    {
     "data": {
      "text/plain": [
       "(119, 50)"
      ]
     },
     "execution_count": 6,
     "metadata": {},
     "output_type": "execute_result"
    }
   ],
   "source": [
    "stocks.shape"
   ]
  },
  {
   "cell_type": "code",
   "execution_count": 7,
   "metadata": {},
   "outputs": [
    {
     "data": {
      "text/plain": [
       "True"
      ]
     },
     "execution_count": 7,
     "metadata": {},
     "output_type": "execute_result"
    }
   ],
   "source": [
    "stocks.isnull().values.any()"
   ]
  },
  {
   "cell_type": "markdown",
   "metadata": {},
   "source": [
    "#### 2. Replacing NA Values"
   ]
  },
  {
   "cell_type": "code",
   "execution_count": 8,
   "metadata": {
    "scrolled": true
   },
   "outputs": [
    {
     "data": {
      "text/html": [
       "<div>\n",
       "<style scoped>\n",
       "    .dataframe tbody tr th:only-of-type {\n",
       "        vertical-align: middle;\n",
       "    }\n",
       "\n",
       "    .dataframe tbody tr th {\n",
       "        vertical-align: top;\n",
       "    }\n",
       "\n",
       "    .dataframe thead th {\n",
       "        text-align: right;\n",
       "    }\n",
       "</style>\n",
       "<table border=\"1\" class=\"dataframe\">\n",
       "  <thead>\n",
       "    <tr style=\"text-align: right;\">\n",
       "      <th></th>\n",
       "      <th>country</th>\n",
       "      <th>1970</th>\n",
       "      <th>1971</th>\n",
       "      <th>1972</th>\n",
       "      <th>1923</th>\n",
       "      <th>1974</th>\n",
       "      <th>1975</th>\n",
       "      <th>1976</th>\n",
       "      <th>1977</th>\n",
       "      <th>1978</th>\n",
       "      <th>...</th>\n",
       "      <th>2009</th>\n",
       "      <th>2010</th>\n",
       "      <th>2011</th>\n",
       "      <th>2012</th>\n",
       "      <th>2013</th>\n",
       "      <th>2014</th>\n",
       "      <th>2015</th>\n",
       "      <th>2016</th>\n",
       "      <th>2017</th>\n",
       "      <th>2018</th>\n",
       "    </tr>\n",
       "  </thead>\n",
       "  <tbody>\n",
       "    <tr>\n",
       "      <th>Afghanistan</th>\n",
       "      <td>119000000.0</td>\n",
       "      <td>1.530000e+08</td>\n",
       "      <td>1.580000e+08</td>\n",
       "      <td>2.150000e+08</td>\n",
       "      <td>0.000000e+00</td>\n",
       "      <td>1.480000e+08</td>\n",
       "      <td>1.620000e+07</td>\n",
       "      <td>1.730000e+08</td>\n",
       "      <td>1.020000e+09</td>\n",
       "      <td>1.170000e+09</td>\n",
       "      <td>...</td>\n",
       "      <td>2.440000e+09</td>\n",
       "      <td>2.490000e+09</td>\n",
       "      <td>2.580000e+09</td>\n",
       "      <td>2.590000e+09</td>\n",
       "      <td>2.530000e+09</td>\n",
       "      <td>2.600000e+09</td>\n",
       "      <td>2.600000e+09</td>\n",
       "      <td>2.750000e+09</td>\n",
       "      <td>2.680000e+09</td>\n",
       "      <td>2.660000e+09</td>\n",
       "    </tr>\n",
       "    <tr>\n",
       "      <th>Albania</th>\n",
       "      <td>119000000.0</td>\n",
       "      <td>1.530000e+08</td>\n",
       "      <td>1.580000e+08</td>\n",
       "      <td>2.150000e+08</td>\n",
       "      <td>0.000000e+00</td>\n",
       "      <td>1.480000e+08</td>\n",
       "      <td>1.620000e+07</td>\n",
       "      <td>1.730000e+08</td>\n",
       "      <td>1.020000e+09</td>\n",
       "      <td>1.170000e+09</td>\n",
       "      <td>...</td>\n",
       "      <td>5.440000e+09</td>\n",
       "      <td>6.480000e+09</td>\n",
       "      <td>7.380000e+09</td>\n",
       "      <td>8.650000e+09</td>\n",
       "      <td>8.510000e+09</td>\n",
       "      <td>8.450000e+09</td>\n",
       "      <td>8.520000e+09</td>\n",
       "      <td>9.800000e+09</td>\n",
       "      <td>9.870000e+09</td>\n",
       "      <td>9.630000e+09</td>\n",
       "    </tr>\n",
       "    <tr>\n",
       "      <th>Algeria</th>\n",
       "      <td>940000000.0</td>\n",
       "      <td>1.260000e+09</td>\n",
       "      <td>1.550000e+09</td>\n",
       "      <td>2.990000e+09</td>\n",
       "      <td>3.370000e+09</td>\n",
       "      <td>4.630000e+09</td>\n",
       "      <td>6.110000e+09</td>\n",
       "      <td>1.060000e+10</td>\n",
       "      <td>1.570000e+10</td>\n",
       "      <td>1.850000e+10</td>\n",
       "      <td>...</td>\n",
       "      <td>7.250000e+09</td>\n",
       "      <td>6.050000e+09</td>\n",
       "      <td>5.520000e+09</td>\n",
       "      <td>5.250000e+09</td>\n",
       "      <td>5.520000e+09</td>\n",
       "      <td>4.670000e+09</td>\n",
       "      <td>5.460000e+09</td>\n",
       "      <td>5.710000e+09</td>\n",
       "      <td>5.710000e+09</td>\n",
       "      <td>5.490000e+09</td>\n",
       "    </tr>\n",
       "  </tbody>\n",
       "</table>\n",
       "<p>3 rows × 50 columns</p>\n",
       "</div>"
      ],
      "text/plain": [
       "                 country          1970          1971          1972  \\\n",
       "Afghanistan  119000000.0  1.530000e+08  1.580000e+08  2.150000e+08   \n",
       "Albania      119000000.0  1.530000e+08  1.580000e+08  2.150000e+08   \n",
       "Algeria      940000000.0  1.260000e+09  1.550000e+09  2.990000e+09   \n",
       "\n",
       "                     1923          1974          1975          1976  \\\n",
       "Afghanistan  0.000000e+00  1.480000e+08  1.620000e+07  1.730000e+08   \n",
       "Albania      0.000000e+00  1.480000e+08  1.620000e+07  1.730000e+08   \n",
       "Algeria      3.370000e+09  4.630000e+09  6.110000e+09  1.060000e+10   \n",
       "\n",
       "                     1977          1978  ...          2009          2010  \\\n",
       "Afghanistan  1.020000e+09  1.170000e+09  ...  2.440000e+09  2.490000e+09   \n",
       "Albania      1.020000e+09  1.170000e+09  ...  5.440000e+09  6.480000e+09   \n",
       "Algeria      1.570000e+10  1.850000e+10  ...  7.250000e+09  6.050000e+09   \n",
       "\n",
       "                     2011          2012          2013          2014  \\\n",
       "Afghanistan  2.580000e+09  2.590000e+09  2.530000e+09  2.600000e+09   \n",
       "Albania      7.380000e+09  8.650000e+09  8.510000e+09  8.450000e+09   \n",
       "Algeria      5.520000e+09  5.250000e+09  5.520000e+09  4.670000e+09   \n",
       "\n",
       "                     2015          2016          2017          2018  \n",
       "Afghanistan  2.600000e+09  2.750000e+09  2.680000e+09  2.660000e+09  \n",
       "Albania      8.520000e+09  9.800000e+09  9.870000e+09  9.630000e+09  \n",
       "Algeria      5.460000e+09  5.710000e+09  5.710000e+09  5.490000e+09  \n",
       "\n",
       "[3 rows x 50 columns]"
      ]
     },
     "execution_count": 8,
     "metadata": {},
     "output_type": "execute_result"
    }
   ],
   "source": [
    "from sklearn.impute import SimpleImputer\n",
    "imr = SimpleImputer(missing_values=np.nan, strategy='most_frequent')\n",
    "\n",
    "imr = imr.fit(stocks)\n",
    "\n",
    "imputed_data = imr.transform(stocks)\n",
    "stocks = pd.DataFrame(imputed_data)\n",
    "stocks = stocks.rename(index = country,columns={0:\"country\", 1:1970, 2:1971,3:1972,4:1923,5:1974,6:1975,7:1976,8:1977,9:1978,10:1979,11:1980,12:1981,13:1982,14:1983, 15:1984, 16:1985, 17:1986, 18:1987, 19:1988, 20:1989, 21:1990, 22: 1991, 23:1992, 24:1993, 25:1994, 26:1995, 27:1996, 28:1997, 29:1998, 30:1999, 31:2000, 32:2001, 33:2002, 34:2003, 35:2004, 36:2005, 37:2006, 38:2007, 39:2008, 40: 2009, 41:2010, 42:2011, 43:2012, 44:2013, 45:2014, 46:2015, 47:2016, 48:2017, 49:2018, 50:2019})\n",
    "stocks.head(3)"
   ]
  },
  {
   "cell_type": "code",
   "execution_count": 9,
   "metadata": {},
   "outputs": [
    {
     "data": {
      "text/plain": [
       "False"
      ]
     },
     "execution_count": 9,
     "metadata": {},
     "output_type": "execute_result"
    }
   ],
   "source": [
    "stocks.isnull().values.any()"
   ]
  },
  {
   "cell_type": "markdown",
   "metadata": {},
   "source": [
    "#### 3. Figuring Out to How Many Clusters for the best practice"
   ]
  },
  {
   "cell_type": "code",
   "execution_count": 10,
   "metadata": {
    "scrolled": true
   },
   "outputs": [
    {
     "data": {
      "image/png": "[encoded data removed]",
      "text/plain": [
       "<Figure size 432x288 with 1 Axes>"
      ]
     },
     "metadata": {
      "needs_background": "light"
     },
     "output_type": "display_data"
    }
   ],
   "source": [
    "from sklearn.cluster import KMeans\n",
    "ks = range(1,6)\n",
    "inertias = []\n",
    "for k in ks:\n",
    "    model = KMeans(n_clusters = k)\n",
    "    model.fit(stocks)\n",
    "    inertias.append(model.inertia_)\n",
    "plt.plot(ks, inertias, \"-o\")\n",
    "plt.xlabel(\"number of clusters,k\")\n",
    "plt.ylabel(\"inertia\")\n",
    "plt.xticks(ks)\n",
    "plt.show()"
   ]
  },
  {
   "cell_type": "markdown",
   "metadata": {},
   "source": [
    "#### 4. Preprocessing Data\n",
    "#### 5. Clustering External Debt Stock Prices\n",
    "#### 6. Creating pipeline for effectiveness"
   ]
  },
  {
   "cell_type": "code",
   "execution_count": 11,
   "metadata": {
    "scrolled": true
   },
   "outputs": [
    {
     "data": {
      "text/plain": [
       "array([1, 1, 2, 0, 0, 1, 1, 0, 0, 0, 0, 0, 0, 1, 0, 0, 0, 0, 2, 0, 2, 0,\n",
       "       2, 0, 0, 0, 2, 2, 2, 0, 2, 0, 0, 0, 0, 0, 0, 1, 2, 0, 0, 2, 2, 1,\n",
       "       0, 0, 0, 2, 2, 2, 2, 2, 0, 0, 2, 0, 0, 0, 0, 1, 0, 0, 2, 2, 2, 2,\n",
       "       0, 2, 0, 0, 1, 0, 1, 0, 0, 2, 0, 2, 2, 2, 1, 0, 0, 0, 0, 2, 0, 0,\n",
       "       0, 2, 0, 0, 2, 0, 2, 0, 0, 0, 0, 2, 1, 1, 0, 0, 1, 2, 2, 0, 0, 1,\n",
       "       0, 0, 1, 0, 0, 0, 2, 0, 0])"
      ]
     },
     "execution_count": 11,
     "metadata": {},
     "output_type": "execute_result"
    }
   ],
   "source": [
    "from sklearn.preprocessing import Normalizer\n",
    "from sklearn.cluster import KMeans\n",
    "from sklearn.pipeline import make_pipeline\n",
    "normalize = Normalizer()\n",
    "model = KMeans(n_clusters = 3)\n",
    "pipeline = make_pipeline(normalize, model)\n",
    "pipeline.fit(stocks)\n",
    "labels = pipeline.predict(stocks)\n",
    "labels"
   ]
  },
  {
   "cell_type": "markdown",
   "metadata": {},
   "source": [
    "#### 8. Figuring Out which country have external debt stocks prices tend to change in the same way"
   ]
  },
  {
   "cell_type": "code",
   "execution_count": 14,
   "metadata": {},
   "outputs": [
    {
     "data": {
      "text/html": [
       "<div>\n",
       "<style scoped>\n",
       "    .dataframe tbody tr th:only-of-type {\n",
       "        vertical-align: middle;\n",
       "    }\n",
       "\n",
       "    .dataframe tbody tr th {\n",
       "        vertical-align: top;\n",
       "    }\n",
       "\n",
       "    .dataframe thead th {\n",
       "        text-align: right;\n",
       "    }\n",
       "</style>\n",
       "<table border=\"1\" class=\"dataframe\">\n",
       "  <thead>\n",
       "    <tr style=\"text-align: right;\">\n",
       "      <th></th>\n",
       "      <th>labels</th>\n",
       "      <th>country</th>\n",
       "    </tr>\n",
       "  </thead>\n",
       "  <tbody>\n",
       "    <tr>\n",
       "      <th>118</th>\n",
       "      <td>0</td>\n",
       "      <td>Zimbabwe</td>\n",
       "    </tr>\n",
       "    <tr>\n",
       "      <th>52</th>\n",
       "      <td>0</td>\n",
       "      <td>India</td>\n",
       "    </tr>\n",
       "    <tr>\n",
       "      <th>88</th>\n",
       "      <td>0</td>\n",
       "      <td>Samoa</td>\n",
       "    </tr>\n",
       "    <tr>\n",
       "      <th>90</th>\n",
       "      <td>0</td>\n",
       "      <td>Senegal</td>\n",
       "    </tr>\n",
       "    <tr>\n",
       "      <th>91</th>\n",
       "      <td>0</td>\n",
       "      <td>Serbia</td>\n",
       "    </tr>\n",
       "    <tr>\n",
       "      <th>...</th>\n",
       "      <td>...</td>\n",
       "      <td>...</td>\n",
       "    </tr>\n",
       "    <tr>\n",
       "      <th>65</th>\n",
       "      <td>2</td>\n",
       "      <td>Malawi</td>\n",
       "    </tr>\n",
       "    <tr>\n",
       "      <th>75</th>\n",
       "      <td>2</td>\n",
       "      <td>Myanmar</td>\n",
       "    </tr>\n",
       "    <tr>\n",
       "      <th>41</th>\n",
       "      <td>2</td>\n",
       "      <td>Gabon</td>\n",
       "    </tr>\n",
       "    <tr>\n",
       "      <th>92</th>\n",
       "      <td>2</td>\n",
       "      <td>Sierra Leone</td>\n",
       "    </tr>\n",
       "    <tr>\n",
       "      <th>42</th>\n",
       "      <td>2</td>\n",
       "      <td>Gambia</td>\n",
       "    </tr>\n",
       "  </tbody>\n",
       "</table>\n",
       "<p>119 rows × 2 columns</p>\n",
       "</div>"
      ],
      "text/plain": [
       "     labels       country\n",
       "118       0      Zimbabwe\n",
       "52        0         India\n",
       "88        0         Samoa\n",
       "90        0       Senegal\n",
       "91        0        Serbia\n",
       "..      ...           ...\n",
       "65        2        Malawi\n",
       "75        2       Myanmar\n",
       "41        2         Gabon\n",
       "92        2  Sierra Leone\n",
       "42        2        Gambia\n",
       "\n",
       "[119 rows x 2 columns]"
      ]
     },
     "execution_count": 14,
     "metadata": {},
     "output_type": "execute_result"
    }
   ],
   "source": [
    "df = pd.DataFrame({'labels': labels, 'country': country})\n",
    "df.sort_values(by=\"labels\")"
   ]
  }
 ],
 "metadata": {
  "kernelspec": {
   "display_name": "Python 3",
   "language": "python",
   "name": "python3"
  },
  "language_info": {
   "codemirror_mode": {
    "name": "ipython",
    "version": 3
   },
   "file_extension": ".py",
   "mimetype": "text/x-python",
   "name": "python",
   "nbconvert_exporter": "python",
   "pygments_lexer": "ipython3",
   "version": "3.8.3"
  }
 },
 "nbformat": 4,
 "nbformat_minor": 4
}
